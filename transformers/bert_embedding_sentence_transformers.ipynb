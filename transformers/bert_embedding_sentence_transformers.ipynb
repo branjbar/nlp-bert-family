{
  "nbformat": 4,
  "nbformat_minor": 0,
  "metadata": {
    "colab": {
      "name": "bert_embedding_sentence_transformers.ipynb",
      "provenance": [],
      "collapsed_sections": [],
      "toc_visible": true,
      "authorship_tag": "ABX9TyP6gujU5MyPnrB7Wu2UQeJ/",
      "include_colab_link": true
    },
    "kernelspec": {
      "name": "python3",
      "display_name": "Python 3"
    },
    "accelerator": "GPU"
  },
  "cells": [
    {
      "cell_type": "markdown",
      "metadata": {
        "id": "view-in-github",
        "colab_type": "text"
      },
      "source": [
        "<a href=\"https://colab.research.google.com/github/branjbar/nlp-bert-family/blob/master/transformers/bert_embedding_sentence_transformers.ipynb\" target=\"_parent\"><img src=\"https://colab.research.google.com/assets/colab-badge.svg\" alt=\"Open In Colab\"/></a>"
      ]
    },
    {
      "cell_type": "code",
      "metadata": {
        "id": "mszKqcmxtiRH",
        "colab_type": "code",
        "colab": {
          "base_uri": "https://localhost:8080/",
          "height": 122
        },
        "outputId": "0399869e-926c-42e2-a183-1e7e28ee2227"
      },
      "source": [
        "from google.colab import drive\n",
        "drive.mount('/content/drive')"
      ],
      "execution_count": 5,
      "outputs": [
        {
          "output_type": "stream",
          "text": [
            "Go to this URL in a browser: https://accounts.google.com/o/oauth2/auth?client_id=947318989803-6bn6qk8qdgf4n4g3pfee6491hc0brc4i.apps.googleusercontent.com&redirect_uri=urn%3aietf%3awg%3aoauth%3a2.0%3aoob&response_type=code&scope=email%20https%3a%2f%2fwww.googleapis.com%2fauth%2fdocs.test%20https%3a%2f%2fwww.googleapis.com%2fauth%2fdrive%20https%3a%2f%2fwww.googleapis.com%2fauth%2fdrive.photos.readonly%20https%3a%2f%2fwww.googleapis.com%2fauth%2fpeopleapi.readonly\n",
            "\n",
            "Enter your authorization code:\n",
            "··········\n",
            "Mounted at /content/drive\n"
          ],
          "name": "stdout"
        }
      ]
    },
    {
      "cell_type": "code",
      "metadata": {
        "id": "DDHsHPH-Asxh",
        "colab_type": "code",
        "colab": {}
      },
      "source": [
        "%%capture\n",
        "!pip install -U sentence-transformers"
      ],
      "execution_count": 3,
      "outputs": []
    },
    {
      "cell_type": "code",
      "metadata": {
        "id": "LM9M51Kv4LfX",
        "colab_type": "code",
        "colab": {
          "base_uri": "https://localhost:8080/",
          "height": 34
        },
        "outputId": "335ed69b-304d-41a7-bf32-94a441b625c2"
      },
      "source": [
        "import pandas as pd\n",
        "from sklearn.decomposition import PCA\n",
        "from sentence_transformers import SentenceTransformer"
      ],
      "execution_count": 6,
      "outputs": [
        {
          "output_type": "stream",
          "text": [
            "100%|██████████| 405M/405M [00:19<00:00, 20.3MB/s]\n"
          ],
          "name": "stderr"
        }
      ]
    },
    {
      "cell_type": "code",
      "metadata": {
        "id": "gKAQ_jmp-Ym_",
        "colab_type": "code",
        "colab": {}
      },
      "source": [
        "model = SentenceTransformer('bert-base-nli-mean-tokens')"
      ],
      "execution_count": null,
      "outputs": []
    },
    {
      "cell_type": "code",
      "metadata": {
        "id": "r_inOw3E3_Lw",
        "colab_type": "code",
        "colab": {}
      },
      "source": [
        "sentences = ['I wanna carry out a test', 'I wanna do an expertiment', \"I wanna eat hotdog\",\"philosophy is cool\", 'I wanna do a sample check', 'I wanna escape from reality', 'I wanna escape from the world','I wanna fire everyone','I am hungry and I want to have lunch', 'cannot handle my job any more']\n",
        "sentence_embeddings = model.encode(sentences)"
      ],
      "execution_count": 7,
      "outputs": []
    },
    {
      "cell_type": "code",
      "metadata": {
        "id": "3whYVYLy4a4i",
        "colab_type": "code",
        "colab": {
          "base_uri": "https://localhost:8080/",
          "height": 34
        },
        "outputId": "9850c92f-933c-4982-831c-1d21430c9d3b"
      },
      "source": [
        "len(sentence_embeddings)"
      ],
      "execution_count": 8,
      "outputs": [
        {
          "output_type": "execute_result",
          "data": {
            "text/plain": [
              "10"
            ]
          },
          "metadata": {
            "tags": []
          },
          "execution_count": 8
        }
      ]
    },
    {
      "cell_type": "code",
      "metadata": {
        "id": "bsWpo5Rj4eBR",
        "colab_type": "code",
        "colab": {
          "base_uri": "https://localhost:8080/",
          "height": 34
        },
        "outputId": "beed0211-316c-4128-b731-84b3a3313cc6"
      },
      "source": [
        "sentence_embeddings[0].shape"
      ],
      "execution_count": 9,
      "outputs": [
        {
          "output_type": "execute_result",
          "data": {
            "text/plain": [
              "(768,)"
            ]
          },
          "metadata": {
            "tags": []
          },
          "execution_count": 9
        }
      ]
    },
    {
      "cell_type": "code",
      "metadata": {
        "id": "G_7ih9zO4NgO",
        "colab_type": "code",
        "colab": {}
      },
      "source": [
        "pca = PCA(n_components=2)\n",
        "principalComponents = pca.fit_transform(sentence_embeddings)\n",
        "principalDf = pd.DataFrame(data = principalComponents\n",
        "             , columns = ['x', 'y'])"
      ],
      "execution_count": 11,
      "outputs": []
    },
    {
      "cell_type": "code",
      "metadata": {
        "id": "8eiJ4vG14u6a",
        "colab_type": "code",
        "colab": {
          "base_uri": "https://localhost:8080/",
          "height": 359
        },
        "outputId": "278c355a-c5e8-492b-83a4-ffb27a92b33a"
      },
      "source": [
        "principalDf[\"text\"] = sentences\n",
        "principalDf"
      ],
      "execution_count": 12,
      "outputs": [
        {
          "output_type": "execute_result",
          "data": {
            "text/html": [
              "<div>\n",
              "<style scoped>\n",
              "    .dataframe tbody tr th:only-of-type {\n",
              "        vertical-align: middle;\n",
              "    }\n",
              "\n",
              "    .dataframe tbody tr th {\n",
              "        vertical-align: top;\n",
              "    }\n",
              "\n",
              "    .dataframe thead th {\n",
              "        text-align: right;\n",
              "    }\n",
              "</style>\n",
              "<table border=\"1\" class=\"dataframe\">\n",
              "  <thead>\n",
              "    <tr style=\"text-align: right;\">\n",
              "      <th></th>\n",
              "      <th>x</th>\n",
              "      <th>y</th>\n",
              "      <th>text</th>\n",
              "    </tr>\n",
              "  </thead>\n",
              "  <tbody>\n",
              "    <tr>\n",
              "      <th>0</th>\n",
              "      <td>-2.958663</td>\n",
              "      <td>-7.113277</td>\n",
              "      <td>I wanna carry out a test</td>\n",
              "    </tr>\n",
              "    <tr>\n",
              "      <th>1</th>\n",
              "      <td>-0.044381</td>\n",
              "      <td>-5.091541</td>\n",
              "      <td>I wanna do an expertiment</td>\n",
              "    </tr>\n",
              "    <tr>\n",
              "      <th>2</th>\n",
              "      <td>11.621966</td>\n",
              "      <td>2.566060</td>\n",
              "      <td>I wanna eat hotdog</td>\n",
              "    </tr>\n",
              "    <tr>\n",
              "      <th>3</th>\n",
              "      <td>2.999281</td>\n",
              "      <td>-6.504743</td>\n",
              "      <td>philosophy is cool</td>\n",
              "    </tr>\n",
              "    <tr>\n",
              "      <th>4</th>\n",
              "      <td>-1.511866</td>\n",
              "      <td>-6.357656</td>\n",
              "      <td>I wanna do a sample check</td>\n",
              "    </tr>\n",
              "    <tr>\n",
              "      <th>5</th>\n",
              "      <td>-7.657270</td>\n",
              "      <td>1.950464</td>\n",
              "      <td>I wanna escape from reality</td>\n",
              "    </tr>\n",
              "    <tr>\n",
              "      <th>6</th>\n",
              "      <td>-8.007800</td>\n",
              "      <td>3.136829</td>\n",
              "      <td>I wanna escape from the world</td>\n",
              "    </tr>\n",
              "    <tr>\n",
              "      <th>7</th>\n",
              "      <td>1.420645</td>\n",
              "      <td>4.524072</td>\n",
              "      <td>I wanna fire everyone</td>\n",
              "    </tr>\n",
              "    <tr>\n",
              "      <th>8</th>\n",
              "      <td>8.670896</td>\n",
              "      <td>3.851752</td>\n",
              "      <td>I am hungry and I want to have lunch</td>\n",
              "    </tr>\n",
              "    <tr>\n",
              "      <th>9</th>\n",
              "      <td>-4.532808</td>\n",
              "      <td>9.038041</td>\n",
              "      <td>cannot handle my job any more</td>\n",
              "    </tr>\n",
              "  </tbody>\n",
              "</table>\n",
              "</div>"
            ],
            "text/plain": [
              "           x         y                                  text\n",
              "0  -2.958663 -7.113277              I wanna carry out a test\n",
              "1  -0.044381 -5.091541             I wanna do an expertiment\n",
              "2  11.621966  2.566060                    I wanna eat hotdog\n",
              "3   2.999281 -6.504743                    philosophy is cool\n",
              "4  -1.511866 -6.357656             I wanna do a sample check\n",
              "5  -7.657270  1.950464           I wanna escape from reality\n",
              "6  -8.007800  3.136829         I wanna escape from the world\n",
              "7   1.420645  4.524072                 I wanna fire everyone\n",
              "8   8.670896  3.851752  I am hungry and I want to have lunch\n",
              "9  -4.532808  9.038041         cannot handle my job any more"
            ]
          },
          "metadata": {
            "tags": []
          },
          "execution_count": 12
        }
      ]
    },
    {
      "cell_type": "code",
      "metadata": {
        "id": "gxD2Ho__4lVt",
        "colab_type": "code",
        "colab": {
          "base_uri": "https://localhost:8080/",
          "height": 279
        },
        "outputId": "6d58283b-003a-47a1-eae0-4e351386bc39"
      },
      "source": [
        "ax = principalDf.plot.scatter(\"x\",\"y\")\n",
        "for i, txt in enumerate(principalDf.text):\n",
        "    ax.annotate(txt, (principalDf.x.iat[i],principalDf.y.iat[i]))"
      ],
      "execution_count": 13,
      "outputs": [
        {
          "output_type": "display_data",
          "data": {
            "image/png": "[encoded data removed]",
            "text/plain": [
              "<Figure size 432x288 with 1 Axes>"
            ]
          },
          "metadata": {
            "tags": [],
            "needs_background": "light"
          }
        }
      ]
    },
    {
      "cell_type": "code",
      "metadata": {
        "id": "ZxvBlS444yfJ",
        "colab_type": "code",
        "colab": {}
      },
      "source": [
        ""
      ],
      "execution_count": null,
      "outputs": []
    }
  ]
}